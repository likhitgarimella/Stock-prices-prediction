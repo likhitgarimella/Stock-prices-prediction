{
  "nbformat": 4,
  "nbformat_minor": 0,
  "metadata": {
    "colab": {
      "provenance": []
    },
    "kernelspec": {
      "name": "python3",
      "display_name": "Python 3"
    },
    "language_info": {
      "name": "python"
    }
  },
  "cells": [
    {
      "cell_type": "code",
      "source": [
        "from google.colab import drive\n",
        "drive.mount('/content/drive')"
      ],
      "metadata": {
        "colab": {
          "base_uri": "https://localhost:8080/"
        },
        "id": "VC8zHkSki1Tg",
        "outputId": "c83dab2a-95ae-48bf-c220-3dd8a7d64c7f"
      },
      "execution_count": 1,
      "outputs": [
        {
          "output_type": "stream",
          "name": "stdout",
          "text": [
            "Drive already mounted at /content/drive; to attempt to forcibly remount, call drive.mount(\"/content/drive\", force_remount=True).\n"
          ]
        }
      ]
    },
    {
      "cell_type": "code",
      "source": [
        "import numpy as np\n",
        "import matplotlib.pyplot as plt\n",
        "import pandas as pd\n",
        "import math\n",
        "from sklearn.metrics import mean_squared_error\n",
        "from sklearn.preprocessing import MinMaxScaler"
      ],
      "metadata": {
        "id": "5qp_i3sunHkS"
      },
      "execution_count": 2,
      "outputs": []
    },
    {
      "cell_type": "code",
      "source": [
        "df = pd.read_csv(\"/content/all_stocks_5yr.csv\")\n",
        "df.head()\n",
        "cols = ['high', 'low', 'volume']\n",
        "df = df.drop(cols, axis=1)\n",
        "df.dropna()\n",
        "df.info()"
      ],
      "metadata": {
        "colab": {
          "base_uri": "https://localhost:8080/"
        },
        "id": "sgth8ZFaj264",
        "outputId": "8ceb12dc-ad2d-49f6-e123-8871fb770fe9"
      },
      "execution_count": 3,
      "outputs": [
        {
          "output_type": "stream",
          "name": "stdout",
          "text": [
            "<class 'pandas.core.frame.DataFrame'>\n",
            "RangeIndex: 619040 entries, 0 to 619039\n",
            "Data columns (total 4 columns):\n",
            " #   Column  Non-Null Count   Dtype  \n",
            "---  ------  --------------   -----  \n",
            " 0   date    619040 non-null  object \n",
            " 1   open    619029 non-null  float64\n",
            " 2   close   619040 non-null  float64\n",
            " 3   Name    619040 non-null  object \n",
            "dtypes: float64(2), object(2)\n",
            "memory usage: 18.9+ MB\n"
          ]
        }
      ]
    },
    {
      "cell_type": "code",
      "source": [
        "def search_for_company(start_char):\n",
        "  return [x for x in df['Name'].unique() if x.startswith(start_char)]\n",
        "\n",
        "def search_company(start_char):\n",
        "  company_list = search_for_company(start_char)\n",
        "  print(company_list)\n",
        "  company_name = input(\"Please select a name from the above list...\")\n",
        "  return df.loc[df['Name'].isin([company_name])]"
      ],
      "metadata": {
        "id": "kmN5LSKG2GSS"
      },
      "execution_count": 4,
      "outputs": []
    },
    {
      "cell_type": "code",
      "source": [
        "updated_df = search_company(input('Want to know which company do we predict? Type any charachters to search for companies!'))"
      ],
      "metadata": {
        "colab": {
          "base_uri": "https://localhost:8080/"
        },
        "id": "C0OUiPjF6LzT",
        "outputId": "27f5f68e-b474-4d6e-9999-dfe989dc0d11"
      },
      "execution_count": 5,
      "outputs": [
        {
          "name": "stdout",
          "output_type": "stream",
          "text": [
            "Want to know which company do we predict? Type any charachters to search for companies!AAL\n",
            "['AAL']\n",
            "Please select a name from the above list...AAL\n"
          ]
        }
      ]
    },
    {
      "cell_type": "code",
      "source": [
        "updated_df"
      ],
      "metadata": {
        "colab": {
          "base_uri": "https://localhost:8080/",
          "height": 424
        },
        "id": "Dor8Wpae7zpB",
        "outputId": "2a36e9b5-8762-46ab-a991-2709fa2422c7"
      },
      "execution_count": 6,
      "outputs": [
        {
          "output_type": "execute_result",
          "data": {
            "text/plain": [
              "            date   open  close Name\n",
              "0     2013-02-08  15.07  14.75  AAL\n",
              "1     2013-02-11  14.89  14.46  AAL\n",
              "2     2013-02-12  14.45  14.27  AAL\n",
              "3     2013-02-13  14.30  14.66  AAL\n",
              "4     2013-02-14  14.94  13.99  AAL\n",
              "...          ...    ...    ...  ...\n",
              "1254  2018-02-01  54.00  53.88  AAL\n",
              "1255  2018-02-02  53.49  52.10  AAL\n",
              "1256  2018-02-05  51.99  49.76  AAL\n",
              "1257  2018-02-06  49.32  51.18  AAL\n",
              "1258  2018-02-07  50.91  51.40  AAL\n",
              "\n",
              "[1259 rows x 4 columns]"
            ],
            "text/html": [
              "\n",
              "  <div id=\"df-90e75c9e-6fc4-4a4b-bc7b-290df7dd1d7c\">\n",
              "    <div class=\"colab-df-container\">\n",
              "      <div>\n",
              "<style scoped>\n",
              "    .dataframe tbody tr th:only-of-type {\n",
              "        vertical-align: middle;\n",
              "    }\n",
              "\n",
              "    .dataframe tbody tr th {\n",
              "        vertical-align: top;\n",
              "    }\n",
              "\n",
              "    .dataframe thead th {\n",
              "        text-align: right;\n",
              "    }\n",
              "</style>\n",
              "<table border=\"1\" class=\"dataframe\">\n",
              "  <thead>\n",
              "    <tr style=\"text-align: right;\">\n",
              "      <th></th>\n",
              "      <th>date</th>\n",
              "      <th>open</th>\n",
              "      <th>close</th>\n",
              "      <th>Name</th>\n",
              "    </tr>\n",
              "  </thead>\n",
              "  <tbody>\n",
              "    <tr>\n",
              "      <th>0</th>\n",
              "      <td>2013-02-08</td>\n",
              "      <td>15.07</td>\n",
              "      <td>14.75</td>\n",
              "      <td>AAL</td>\n",
              "    </tr>\n",
              "    <tr>\n",
              "      <th>1</th>\n",
              "      <td>2013-02-11</td>\n",
              "      <td>14.89</td>\n",
              "      <td>14.46</td>\n",
              "      <td>AAL</td>\n",
              "    </tr>\n",
              "    <tr>\n",
              "      <th>2</th>\n",
              "      <td>2013-02-12</td>\n",
              "      <td>14.45</td>\n",
              "      <td>14.27</td>\n",
              "      <td>AAL</td>\n",
              "    </tr>\n",
              "    <tr>\n",
              "      <th>3</th>\n",
              "      <td>2013-02-13</td>\n",
              "      <td>14.30</td>\n",
              "      <td>14.66</td>\n",
              "      <td>AAL</td>\n",
              "    </tr>\n",
              "    <tr>\n",
              "      <th>4</th>\n",
              "      <td>2013-02-14</td>\n",
              "      <td>14.94</td>\n",
              "      <td>13.99</td>\n",
              "      <td>AAL</td>\n",
              "    </tr>\n",
              "    <tr>\n",
              "      <th>...</th>\n",
              "      <td>...</td>\n",
              "      <td>...</td>\n",
              "      <td>...</td>\n",
              "      <td>...</td>\n",
              "    </tr>\n",
              "    <tr>\n",
              "      <th>1254</th>\n",
              "      <td>2018-02-01</td>\n",
              "      <td>54.00</td>\n",
              "      <td>53.88</td>\n",
              "      <td>AAL</td>\n",
              "    </tr>\n",
              "    <tr>\n",
              "      <th>1255</th>\n",
              "      <td>2018-02-02</td>\n",
              "      <td>53.49</td>\n",
              "      <td>52.10</td>\n",
              "      <td>AAL</td>\n",
              "    </tr>\n",
              "    <tr>\n",
              "      <th>1256</th>\n",
              "      <td>2018-02-05</td>\n",
              "      <td>51.99</td>\n",
              "      <td>49.76</td>\n",
              "      <td>AAL</td>\n",
              "    </tr>\n",
              "    <tr>\n",
              "      <th>1257</th>\n",
              "      <td>2018-02-06</td>\n",
              "      <td>49.32</td>\n",
              "      <td>51.18</td>\n",
              "      <td>AAL</td>\n",
              "    </tr>\n",
              "    <tr>\n",
              "      <th>1258</th>\n",
              "      <td>2018-02-07</td>\n",
              "      <td>50.91</td>\n",
              "      <td>51.40</td>\n",
              "      <td>AAL</td>\n",
              "    </tr>\n",
              "  </tbody>\n",
              "</table>\n",
              "<p>1259 rows × 4 columns</p>\n",
              "</div>\n",
              "      <button class=\"colab-df-convert\" onclick=\"convertToInteractive('df-90e75c9e-6fc4-4a4b-bc7b-290df7dd1d7c')\"\n",
              "              title=\"Convert this dataframe to an interactive table.\"\n",
              "              style=\"display:none;\">\n",
              "        \n",
              "  <svg xmlns=\"http://www.w3.org/2000/svg\" height=\"24px\"viewBox=\"0 0 24 24\"\n",
              "       width=\"24px\">\n",
              "    <path d=\"M0 0h24v24H0V0z\" fill=\"none\"/>\n",
              "    <path d=\"M18.56 5.44l.94 2.06.94-2.06 2.06-.94-2.06-.94-.94-2.06-.94 2.06-2.06.94zm-11 1L8.5 8.5l.94-2.06 2.06-.94-2.06-.94L8.5 2.5l-.94 2.06-2.06.94zm10 10l.94 2.06.94-2.06 2.06-.94-2.06-.94-.94-2.06-.94 2.06-2.06.94z\"/><path d=\"M17.41 7.96l-1.37-1.37c-.4-.4-.92-.59-1.43-.59-.52 0-1.04.2-1.43.59L10.3 9.45l-7.72 7.72c-.78.78-.78 2.05 0 2.83L4 21.41c.39.39.9.59 1.41.59.51 0 1.02-.2 1.41-.59l7.78-7.78 2.81-2.81c.8-.78.8-2.07 0-2.86zM5.41 20L4 18.59l7.72-7.72 1.47 1.35L5.41 20z\"/>\n",
              "  </svg>\n",
              "      </button>\n",
              "      \n",
              "  <style>\n",
              "    .colab-df-container {\n",
              "      display:flex;\n",
              "      flex-wrap:wrap;\n",
              "      gap: 12px;\n",
              "    }\n",
              "\n",
              "    .colab-df-convert {\n",
              "      background-color: #E8F0FE;\n",
              "      border: none;\n",
              "      border-radius: 50%;\n",
              "      cursor: pointer;\n",
              "      display: none;\n",
              "      fill: #1967D2;\n",
              "      height: 32px;\n",
              "      padding: 0 0 0 0;\n",
              "      width: 32px;\n",
              "    }\n",
              "\n",
              "    .colab-df-convert:hover {\n",
              "      background-color: #E2EBFA;\n",
              "      box-shadow: 0px 1px 2px rgba(60, 64, 67, 0.3), 0px 1px 3px 1px rgba(60, 64, 67, 0.15);\n",
              "      fill: #174EA6;\n",
              "    }\n",
              "\n",
              "    [theme=dark] .colab-df-convert {\n",
              "      background-color: #3B4455;\n",
              "      fill: #D2E3FC;\n",
              "    }\n",
              "\n",
              "    [theme=dark] .colab-df-convert:hover {\n",
              "      background-color: #434B5C;\n",
              "      box-shadow: 0px 1px 3px 1px rgba(0, 0, 0, 0.15);\n",
              "      filter: drop-shadow(0px 1px 2px rgba(0, 0, 0, 0.3));\n",
              "      fill: #FFFFFF;\n",
              "    }\n",
              "  </style>\n",
              "\n",
              "      <script>\n",
              "        const buttonEl =\n",
              "          document.querySelector('#df-90e75c9e-6fc4-4a4b-bc7b-290df7dd1d7c button.colab-df-convert');\n",
              "        buttonEl.style.display =\n",
              "          google.colab.kernel.accessAllowed ? 'block' : 'none';\n",
              "\n",
              "        async function convertToInteractive(key) {\n",
              "          const element = document.querySelector('#df-90e75c9e-6fc4-4a4b-bc7b-290df7dd1d7c');\n",
              "          const dataTable =\n",
              "            await google.colab.kernel.invokeFunction('convertToInteractive',\n",
              "                                                     [key], {});\n",
              "          if (!dataTable) return;\n",
              "\n",
              "          const docLinkHtml = 'Like what you see? Visit the ' +\n",
              "            '<a target=\"_blank\" href=https://colab.research.google.com/notebooks/data_table.ipynb>data table notebook</a>'\n",
              "            + ' to learn more about interactive tables.';\n",
              "          element.innerHTML = '';\n",
              "          dataTable['output_type'] = 'display_data';\n",
              "          await google.colab.output.renderOutput(dataTable, element);\n",
              "          const docLink = document.createElement('div');\n",
              "          docLink.innerHTML = docLinkHtml;\n",
              "          element.appendChild(docLink);\n",
              "        }\n",
              "      </script>\n",
              "    </div>\n",
              "  </div>\n",
              "  "
            ]
          },
          "metadata": {},
          "execution_count": 6
        }
      ]
    },
    {
      "cell_type": "code",
      "source": [
        "training_set = updated_df.iloc[:, 1:2].values\n",
        "sc = MinMaxScaler(feature_range = (0, 1))\n",
        "training_set_scaled = sc.fit_transform(training_set)"
      ],
      "metadata": {
        "id": "kG0O8dbvnCQP"
      },
      "execution_count": 7,
      "outputs": []
    },
    {
      "cell_type": "code",
      "source": [
        "X_train = []\n",
        "y_train = []\n",
        "for i in range(60, 1259):\n",
        "    X_train.append(training_set_scaled[i-60:i, 0])\n",
        "    y_train.append(training_set_scaled[i, 0])\n",
        "X_train, y_train = np.array(X_train), np.array(y_train)"
      ],
      "metadata": {
        "id": "l8F16HcApb3e"
      },
      "execution_count": 8,
      "outputs": []
    },
    {
      "cell_type": "code",
      "source": [
        "X_train = np.reshape(X_train, (X_train.shape[0], X_train.shape[1], 1))"
      ],
      "metadata": {
        "id": "YmWRDwI-phAn"
      },
      "execution_count": 9,
      "outputs": []
    },
    {
      "cell_type": "code",
      "source": [
        "from keras.models import Sequential\n",
        "from keras.layers import Dense\n",
        "from keras.layers import LSTM\n",
        "from keras.layers import Dropout\n",
        "\n",
        "from keras.layers import SimpleRNN\n",
        "from keras.layers import GRU"
      ],
      "metadata": {
        "id": "eNaxERSQpk-l"
      },
      "execution_count": 10,
      "outputs": []
    },
    {
      "cell_type": "markdown",
      "source": [
        "SIMPLE RNN"
      ],
      "metadata": {
        "id": "IMXWrJkWuF1Z"
      }
    },
    {
      "cell_type": "code",
      "source": [
        "regressorRnn = Sequential()\n",
        "#LAYER 1\n",
        "regressorRnn.add(SimpleRNN(units=50, activation=\"relu\", return_sequences=True, input_shape=(X_train.shape[1], 1)))\n",
        "regressorRnn.add(Dropout(0.2))\n",
        "#LAYER 2\n",
        "regressorRnn.add(SimpleRNN(units=50, activation=\"relu\", return_sequences=True))\n",
        "regressorRnn.add(Dropout(0.2))\n",
        "#LAYER 3\n",
        "regressorRnn.add(SimpleRNN(units=50, activation=\"relu\", return_sequences=True))\n",
        "regressorRnn.add(Dropout(0.2))\n",
        "#LAYER 4\n",
        "regressorRnn.add(SimpleRNN(units=50))\n",
        "regressorRnn.add(Dropout(0.2))\n",
        "#OUTPUT LAYER\n",
        "regressorRnn.add(Dense(units = 1))\n",
        "regressorRnn.compile(optimizer = \"adam\", loss = \"mean_squared_error\", metrics = [\"accuracy\"])\n",
        "regressorRnn.fit(X_train, y_train, epochs = 100, batch_size = 32)"
      ],
      "metadata": {
        "colab": {
          "base_uri": "https://localhost:8080/"
        },
        "id": "18AGMFe0pxcN",
        "outputId": "8b20cd83-ee8c-478c-fc88-db3deeef0b2d"
      },
      "execution_count": 11,
      "outputs": [
        {
          "output_type": "stream",
          "name": "stdout",
          "text": [
            "Epoch 1/100\n",
            "38/38 [==============================] - 10s 68ms/step - loss: 0.1448 - accuracy: 8.3403e-04\n",
            "Epoch 2/100\n",
            "38/38 [==============================] - 2s 65ms/step - loss: 0.0357 - accuracy: 8.3403e-04\n",
            "Epoch 3/100\n",
            "38/38 [==============================] - 2s 65ms/step - loss: 0.0245 - accuracy: 8.3403e-04\n",
            "Epoch 4/100\n",
            "38/38 [==============================] - 3s 82ms/step - loss: 0.0165 - accuracy: 8.3403e-04\n",
            "Epoch 5/100\n",
            "38/38 [==============================] - 4s 104ms/step - loss: 0.0126 - accuracy: 8.3403e-04\n",
            "Epoch 6/100\n",
            "38/38 [==============================] - 2s 65ms/step - loss: 0.0132 - accuracy: 8.3403e-04\n",
            "Epoch 7/100\n",
            "38/38 [==============================] - 3s 70ms/step - loss: 0.0109 - accuracy: 8.3403e-04\n",
            "Epoch 8/100\n",
            "38/38 [==============================] - 4s 95ms/step - loss: 0.0092 - accuracy: 8.3403e-04\n",
            "Epoch 9/100\n",
            "38/38 [==============================] - 5s 120ms/step - loss: 0.0079 - accuracy: 8.3403e-04\n",
            "Epoch 10/100\n",
            "38/38 [==============================] - 4s 99ms/step - loss: 0.0075 - accuracy: 8.3403e-04\n",
            "Epoch 11/100\n",
            "38/38 [==============================] - 3s 66ms/step - loss: 0.0067 - accuracy: 8.3403e-04\n",
            "Epoch 12/100\n",
            "38/38 [==============================] - 2s 65ms/step - loss: 0.0076 - accuracy: 8.3403e-04\n",
            "Epoch 13/100\n",
            "38/38 [==============================] - 3s 69ms/step - loss: 0.0061 - accuracy: 8.3403e-04\n",
            "Epoch 14/100\n",
            "38/38 [==============================] - 4s 95ms/step - loss: 0.0059 - accuracy: 8.3403e-04\n",
            "Epoch 15/100\n",
            "38/38 [==============================] - 4s 94ms/step - loss: 0.0061 - accuracy: 8.3403e-04\n",
            "Epoch 16/100\n",
            "38/38 [==============================] - 3s 66ms/step - loss: 0.0062 - accuracy: 8.3403e-04\n",
            "Epoch 17/100\n",
            "38/38 [==============================] - 2s 66ms/step - loss: 0.0054 - accuracy: 8.3403e-04\n",
            "Epoch 18/100\n",
            "38/38 [==============================] - 3s 67ms/step - loss: 0.0052 - accuracy: 8.3403e-04\n",
            "Epoch 19/100\n",
            "38/38 [==============================] - 4s 94ms/step - loss: 0.0057 - accuracy: 8.3403e-04\n",
            "Epoch 20/100\n",
            "38/38 [==============================] - 4s 98ms/step - loss: 0.0053 - accuracy: 8.3403e-04\n",
            "Epoch 21/100\n",
            "38/38 [==============================] - 3s 69ms/step - loss: 0.0047 - accuracy: 8.3403e-04\n",
            "Epoch 22/100\n",
            "38/38 [==============================] - 3s 67ms/step - loss: 0.0048 - accuracy: 8.3403e-04\n",
            "Epoch 23/100\n",
            "38/38 [==============================] - 2s 65ms/step - loss: 0.0047 - accuracy: 8.3403e-04\n",
            "Epoch 24/100\n",
            "38/38 [==============================] - 3s 87ms/step - loss: 0.0045 - accuracy: 8.3403e-04\n",
            "Epoch 25/100\n",
            "38/38 [==============================] - 4s 101ms/step - loss: 0.0048 - accuracy: 8.3403e-04\n",
            "Epoch 26/100\n",
            "38/38 [==============================] - 3s 73ms/step - loss: 0.0043 - accuracy: 8.3403e-04\n",
            "Epoch 27/100\n",
            "38/38 [==============================] - 3s 67ms/step - loss: 0.0043 - accuracy: 8.3403e-04\n",
            "Epoch 28/100\n",
            "38/38 [==============================] - 3s 66ms/step - loss: 0.0043 - accuracy: 8.3403e-04\n",
            "Epoch 29/100\n",
            "38/38 [==============================] - 3s 88ms/step - loss: 0.0042 - accuracy: 8.3403e-04\n",
            "Epoch 30/100\n",
            "38/38 [==============================] - 4s 97ms/step - loss: 0.0045 - accuracy: 8.3403e-04\n",
            "Epoch 31/100\n",
            "38/38 [==============================] - 2s 65ms/step - loss: 0.0048 - accuracy: 8.3403e-04\n",
            "Epoch 32/100\n",
            "38/38 [==============================] - 3s 82ms/step - loss: 0.0038 - accuracy: 8.3403e-04\n",
            "Epoch 33/100\n",
            "38/38 [==============================] - 3s 67ms/step - loss: 0.0036 - accuracy: 8.3403e-04\n",
            "Epoch 34/100\n",
            "38/38 [==============================] - 3s 91ms/step - loss: 0.0037 - accuracy: 8.3403e-04\n",
            "Epoch 35/100\n",
            "38/38 [==============================] - 5s 130ms/step - loss: 0.0037 - accuracy: 8.3403e-04\n",
            "Epoch 36/100\n",
            "38/38 [==============================] - 3s 67ms/step - loss: 0.0036 - accuracy: 8.3403e-04\n",
            "Epoch 37/100\n",
            "38/38 [==============================] - 4s 100ms/step - loss: 0.0040 - accuracy: 8.3403e-04\n",
            "Epoch 38/100\n",
            "38/38 [==============================] - 4s 112ms/step - loss: 0.0038 - accuracy: 8.3403e-04\n",
            "Epoch 39/100\n",
            "38/38 [==============================] - 4s 93ms/step - loss: 0.0033 - accuracy: 8.3403e-04\n",
            "Epoch 40/100\n",
            "38/38 [==============================] - 2s 66ms/step - loss: 0.0040 - accuracy: 8.3403e-04\n",
            "Epoch 41/100\n",
            "38/38 [==============================] - 3s 67ms/step - loss: 0.0041 - accuracy: 8.3403e-04\n",
            "Epoch 42/100\n",
            "38/38 [==============================] - 3s 66ms/step - loss: 0.0036 - accuracy: 8.3403e-04\n",
            "Epoch 43/100\n",
            "38/38 [==============================] - 3s 85ms/step - loss: 0.0036 - accuracy: 8.3403e-04\n",
            "Epoch 44/100\n",
            "38/38 [==============================] - 4s 100ms/step - loss: 0.0036 - accuracy: 8.3403e-04\n",
            "Epoch 45/100\n",
            "38/38 [==============================] - 2s 65ms/step - loss: 0.0034 - accuracy: 8.3403e-04\n",
            "Epoch 46/100\n",
            "38/38 [==============================] - 2s 66ms/step - loss: 0.0034 - accuracy: 8.3403e-04\n",
            "Epoch 47/100\n",
            "38/38 [==============================] - 2s 65ms/step - loss: 0.0040 - accuracy: 8.3403e-04\n",
            "Epoch 48/100\n",
            "38/38 [==============================] - 3s 85ms/step - loss: 0.0032 - accuracy: 8.3403e-04\n",
            "Epoch 49/100\n",
            "38/38 [==============================] - 5s 120ms/step - loss: 0.0034 - accuracy: 8.3403e-04\n",
            "Epoch 50/100\n",
            "38/38 [==============================] - 4s 106ms/step - loss: 0.0033 - accuracy: 8.3403e-04\n",
            "Epoch 51/100\n",
            "38/38 [==============================] - 2s 65ms/step - loss: 0.0034 - accuracy: 8.3403e-04\n",
            "Epoch 52/100\n",
            "38/38 [==============================] - 3s 66ms/step - loss: 0.0034 - accuracy: 8.3403e-04\n",
            "Epoch 53/100\n",
            "38/38 [==============================] - 2s 65ms/step - loss: 0.0029 - accuracy: 8.3403e-04\n",
            "Epoch 54/100\n",
            "38/38 [==============================] - 3s 79ms/step - loss: 0.0029 - accuracy: 8.3403e-04\n",
            "Epoch 55/100\n",
            "38/38 [==============================] - 4s 107ms/step - loss: 0.0033 - accuracy: 8.3403e-04\n",
            "Epoch 56/100\n",
            "38/38 [==============================] - 4s 109ms/step - loss: 0.0030 - accuracy: 8.3403e-04\n",
            "Epoch 57/100\n",
            "38/38 [==============================] - 3s 78ms/step - loss: 0.0032 - accuracy: 8.3403e-04\n",
            "Epoch 58/100\n",
            "38/38 [==============================] - 2s 65ms/step - loss: 0.0038 - accuracy: 8.3403e-04\n",
            "Epoch 59/100\n",
            "38/38 [==============================] - 4s 109ms/step - loss: 0.0028 - accuracy: 8.3403e-04\n",
            "Epoch 60/100\n",
            "38/38 [==============================] - 3s 75ms/step - loss: 0.0031 - accuracy: 8.3403e-04\n",
            "Epoch 61/100\n",
            "38/38 [==============================] - 2s 66ms/step - loss: 0.0030 - accuracy: 8.3403e-04\n",
            "Epoch 62/100\n",
            "38/38 [==============================] - 3s 66ms/step - loss: 0.0030 - accuracy: 8.3403e-04\n",
            "Epoch 63/100\n",
            "38/38 [==============================] - 2s 65ms/step - loss: 0.0030 - accuracy: 8.3403e-04\n",
            "Epoch 64/100\n",
            "38/38 [==============================] - 4s 101ms/step - loss: 0.0028 - accuracy: 8.3403e-04\n",
            "Epoch 65/100\n",
            "38/38 [==============================] - 3s 83ms/step - loss: 0.0025 - accuracy: 8.3403e-04\n",
            "Epoch 66/100\n",
            "38/38 [==============================] - 3s 66ms/step - loss: 0.0029 - accuracy: 8.3403e-04\n",
            "Epoch 67/100\n",
            "38/38 [==============================] - 3s 75ms/step - loss: 0.0025 - accuracy: 8.3403e-04\n",
            "Epoch 68/100\n",
            "38/38 [==============================] - 4s 112ms/step - loss: 0.0024 - accuracy: 8.3403e-04\n",
            "Epoch 69/100\n",
            "38/38 [==============================] - 4s 111ms/step - loss: 0.0027 - accuracy: 8.3403e-04\n",
            "Epoch 70/100\n",
            "38/38 [==============================] - 3s 70ms/step - loss: 0.0027 - accuracy: 8.3403e-04\n",
            "Epoch 71/100\n",
            "38/38 [==============================] - 3s 66ms/step - loss: 0.0026 - accuracy: 8.3403e-04\n",
            "Epoch 72/100\n",
            "38/38 [==============================] - 2s 65ms/step - loss: 0.0027 - accuracy: 8.3403e-04\n",
            "Epoch 73/100\n",
            "38/38 [==============================] - 3s 66ms/step - loss: 0.0027 - accuracy: 8.3403e-04\n",
            "Epoch 74/100\n",
            "38/38 [==============================] - 4s 108ms/step - loss: 0.0029 - accuracy: 8.3403e-04\n",
            "Epoch 75/100\n",
            "38/38 [==============================] - 3s 76ms/step - loss: 0.0029 - accuracy: 8.3403e-04\n",
            "Epoch 76/100\n",
            "38/38 [==============================] - 3s 66ms/step - loss: 0.0027 - accuracy: 8.3403e-04\n",
            "Epoch 77/100\n",
            "38/38 [==============================] - 3s 79ms/step - loss: 0.0027 - accuracy: 8.3403e-04\n",
            "Epoch 78/100\n",
            "38/38 [==============================] - 4s 113ms/step - loss: 0.0024 - accuracy: 8.3403e-04\n",
            "Epoch 79/100\n",
            "38/38 [==============================] - 4s 110ms/step - loss: 0.0023 - accuracy: 8.3403e-04\n",
            "Epoch 80/100\n",
            "38/38 [==============================] - 3s 66ms/step - loss: 0.0023 - accuracy: 8.3403e-04\n",
            "Epoch 81/100\n",
            "38/38 [==============================] - 2s 65ms/step - loss: 0.0021 - accuracy: 8.3403e-04\n",
            "Epoch 82/100\n",
            "38/38 [==============================] - 2s 65ms/step - loss: 0.0025 - accuracy: 8.3403e-04\n",
            "Epoch 83/100\n",
            "38/38 [==============================] - 2s 65ms/step - loss: 0.0023 - accuracy: 8.3403e-04\n",
            "Epoch 84/100\n",
            "38/38 [==============================] - 4s 107ms/step - loss: 0.0023 - accuracy: 8.3403e-04\n",
            "Epoch 85/100\n",
            "38/38 [==============================] - 3s 79ms/step - loss: 0.0023 - accuracy: 8.3403e-04\n",
            "Epoch 86/100\n",
            "38/38 [==============================] - 3s 66ms/step - loss: 0.0022 - accuracy: 8.3403e-04\n",
            "Epoch 87/100\n",
            "38/38 [==============================] - 4s 112ms/step - loss: 0.0027 - accuracy: 8.3403e-04\n",
            "Epoch 88/100\n",
            "38/38 [==============================] - 4s 95ms/step - loss: 0.0022 - accuracy: 8.3403e-04\n",
            "Epoch 89/100\n",
            "38/38 [==============================] - 4s 96ms/step - loss: 0.0024 - accuracy: 8.3403e-04\n",
            "Epoch 90/100\n",
            "38/38 [==============================] - 3s 67ms/step - loss: 0.0024 - accuracy: 8.3403e-04\n",
            "Epoch 91/100\n",
            "38/38 [==============================] - 2s 65ms/step - loss: 0.0022 - accuracy: 8.3403e-04\n",
            "Epoch 92/100\n",
            "38/38 [==============================] - 2s 65ms/step - loss: 0.0026 - accuracy: 8.3403e-04\n",
            "Epoch 93/100\n",
            "38/38 [==============================] - 3s 80ms/step - loss: 0.0024 - accuracy: 8.3403e-04\n",
            "Epoch 94/100\n",
            "38/38 [==============================] - 4s 104ms/step - loss: 0.0023 - accuracy: 8.3403e-04\n",
            "Epoch 95/100\n",
            "38/38 [==============================] - 2s 65ms/step - loss: 0.0020 - accuracy: 8.3403e-04\n",
            "Epoch 96/100\n",
            "38/38 [==============================] - 3s 66ms/step - loss: 0.0024 - accuracy: 8.3403e-04\n",
            "Epoch 97/100\n",
            "38/38 [==============================] - 3s 66ms/step - loss: 0.0023 - accuracy: 8.3403e-04\n",
            "Epoch 98/100\n",
            "38/38 [==============================] - 3s 71ms/step - loss: 0.0021 - accuracy: 8.3403e-04\n",
            "Epoch 99/100\n",
            "38/38 [==============================] - 4s 107ms/step - loss: 0.0020 - accuracy: 8.3403e-04\n",
            "Epoch 100/100\n",
            "38/38 [==============================] - 3s 70ms/step - loss: 0.0021 - accuracy: 8.3403e-04\n"
          ]
        },
        {
          "output_type": "execute_result",
          "data": {
            "text/plain": [
              "<keras.callbacks.History at 0x7fe019dd0d60>"
            ]
          },
          "metadata": {},
          "execution_count": 11
        }
      ]
    },
    {
      "cell_type": "code",
      "source": [
        "from tensorflow import keras as k\n",
        "import pickle"
      ],
      "metadata": {
        "id": "-9dSLEdmfDL8"
      },
      "execution_count": 12,
      "outputs": []
    },
    {
      "cell_type": "markdown",
      "source": [
        "LSTM\n"
      ],
      "metadata": {
        "id": "FzNZDimTuIe3"
      }
    },
    {
      "cell_type": "code",
      "source": [
        "regressorLstm = Sequential()\n",
        "regressorLstm.add(LSTM(units = 50, return_sequences = True, input_shape = (X_train.shape[1], 1)))\n",
        "regressorLstm.add(Dropout(0.2))\n",
        "regressorLstm.add(LSTM(units = 50, return_sequences = True))\n",
        "regressorLstm.add(Dropout(0.2))\n",
        "regressorLstm.add(LSTM(units = 50, return_sequences = True))\n",
        "regressorLstm.add(Dropout(0.2))\n",
        "regressorLstm.add(LSTM(units = 50))\n",
        "regressorLstm.add(Dropout(0.2))\n",
        "regressorLstm.add(Dense(units = 1))\n",
        "opt = k.optimizers.AdamW(learning_rate=0.01)\n",
        "regressorLstm.compile(optimizer = opt, loss = 'mean_squared_error')\n",
        "regressorLstm.fit(X_train, y_train, epochs = 100, batch_size = 32)"
      ],
      "metadata": {
        "id": "_9x9zKFluMfJ",
        "colab": {
          "base_uri": "https://localhost:8080/"
        },
        "outputId": "43fcc573-431b-44e1-e818-8bbba93f11ad"
      },
      "execution_count": 13,
      "outputs": [
        {
          "output_type": "stream",
          "name": "stdout",
          "text": [
            "Epoch 1/100\n",
            "38/38 [==============================] - 15s 152ms/step - loss: 0.2602\n",
            "Epoch 2/100\n",
            "38/38 [==============================] - 5s 129ms/step - loss: 0.0088\n",
            "Epoch 3/100\n",
            "38/38 [==============================] - 7s 185ms/step - loss: 0.0073\n",
            "Epoch 4/100\n",
            "38/38 [==============================] - 5s 137ms/step - loss: 0.0062\n",
            "Epoch 5/100\n",
            "38/38 [==============================] - 6s 151ms/step - loss: 0.0056\n",
            "Epoch 6/100\n",
            "38/38 [==============================] - 6s 165ms/step - loss: 0.0061\n",
            "Epoch 7/100\n",
            "38/38 [==============================] - 5s 133ms/step - loss: 0.0052\n",
            "Epoch 8/100\n",
            "38/38 [==============================] - 8s 210ms/step - loss: 0.0051\n",
            "Epoch 9/100\n",
            "38/38 [==============================] - 6s 167ms/step - loss: 0.0046\n",
            "Epoch 10/100\n",
            "38/38 [==============================] - 5s 133ms/step - loss: 0.0053\n",
            "Epoch 11/100\n",
            "38/38 [==============================] - 7s 190ms/step - loss: 0.0044\n",
            "Epoch 12/100\n",
            "38/38 [==============================] - 5s 136ms/step - loss: 0.0038\n",
            "Epoch 13/100\n",
            "38/38 [==============================] - 6s 152ms/step - loss: 0.0038\n",
            "Epoch 14/100\n",
            "38/38 [==============================] - 6s 169ms/step - loss: 0.0036\n",
            "Epoch 15/100\n",
            "38/38 [==============================] - 5s 134ms/step - loss: 0.0035\n",
            "Epoch 16/100\n",
            "38/38 [==============================] - 7s 187ms/step - loss: 0.0035\n",
            "Epoch 17/100\n",
            "38/38 [==============================] - 7s 187ms/step - loss: 0.0035\n",
            "Epoch 18/100\n",
            "38/38 [==============================] - 7s 184ms/step - loss: 0.0033\n",
            "Epoch 19/100\n",
            "38/38 [==============================] - 5s 135ms/step - loss: 0.0032\n",
            "Epoch 20/100\n",
            "38/38 [==============================] - 5s 133ms/step - loss: 0.0033\n",
            "Epoch 21/100\n",
            "38/38 [==============================] - 7s 183ms/step - loss: 0.0027\n",
            "Epoch 22/100\n",
            "38/38 [==============================] - 5s 132ms/step - loss: 0.0029\n",
            "Epoch 23/100\n",
            "38/38 [==============================] - 6s 171ms/step - loss: 0.0025\n",
            "Epoch 24/100\n",
            "38/38 [==============================] - 6s 147ms/step - loss: 0.0026\n",
            "Epoch 25/100\n",
            "38/38 [==============================] - 5s 134ms/step - loss: 0.0035\n",
            "Epoch 26/100\n",
            "38/38 [==============================] - 7s 188ms/step - loss: 0.0027\n",
            "Epoch 27/100\n",
            "38/38 [==============================] - 5s 135ms/step - loss: 0.0023\n",
            "Epoch 28/100\n",
            "38/38 [==============================] - 6s 163ms/step - loss: 0.0023\n",
            "Epoch 29/100\n",
            "38/38 [==============================] - 6s 155ms/step - loss: 0.0023\n",
            "Epoch 30/100\n",
            "38/38 [==============================] - 5s 133ms/step - loss: 0.0023\n",
            "Epoch 31/100\n",
            "38/38 [==============================] - 7s 188ms/step - loss: 0.0028\n",
            "Epoch 32/100\n",
            "38/38 [==============================] - 5s 133ms/step - loss: 0.0020\n",
            "Epoch 33/100\n",
            "38/38 [==============================] - 6s 159ms/step - loss: 0.0022\n",
            "Epoch 34/100\n",
            "38/38 [==============================] - 6s 160ms/step - loss: 0.0028\n",
            "Epoch 35/100\n",
            "38/38 [==============================] - 5s 133ms/step - loss: 0.0024\n",
            "Epoch 36/100\n",
            "38/38 [==============================] - 9s 227ms/step - loss: 0.0024\n",
            "Epoch 37/100\n",
            "38/38 [==============================] - 6s 153ms/step - loss: 0.0020\n",
            "Epoch 38/100\n",
            "38/38 [==============================] - 5s 132ms/step - loss: 0.0017\n",
            "Epoch 39/100\n",
            "38/38 [==============================] - 7s 188ms/step - loss: 0.0018\n",
            "Epoch 40/100\n",
            "38/38 [==============================] - 5s 134ms/step - loss: 0.0016\n",
            "Epoch 41/100\n",
            "38/38 [==============================] - 9s 227ms/step - loss: 0.0016\n",
            "Epoch 42/100\n",
            "38/38 [==============================] - 8s 198ms/step - loss: 0.0020\n",
            "Epoch 43/100\n",
            "38/38 [==============================] - 6s 151ms/step - loss: 0.0017\n",
            "Epoch 44/100\n",
            "38/38 [==============================] - 7s 177ms/step - loss: 0.0016\n",
            "Epoch 45/100\n",
            "38/38 [==============================] - 5s 135ms/step - loss: 0.0016\n",
            "Epoch 46/100\n",
            "38/38 [==============================] - 7s 189ms/step - loss: 0.0017\n",
            "Epoch 47/100\n",
            "38/38 [==============================] - 5s 133ms/step - loss: 0.0016\n",
            "Epoch 48/100\n",
            "38/38 [==============================] - 5s 137ms/step - loss: 0.0014\n",
            "Epoch 49/100\n",
            "38/38 [==============================] - 7s 183ms/step - loss: 0.0014\n",
            "Epoch 50/100\n",
            "38/38 [==============================] - 7s 187ms/step - loss: 0.0017\n",
            "Epoch 51/100\n",
            "38/38 [==============================] - 7s 188ms/step - loss: 0.0013\n",
            "Epoch 52/100\n",
            "38/38 [==============================] - 5s 132ms/step - loss: 0.0013\n",
            "Epoch 53/100\n",
            "38/38 [==============================] - 7s 172ms/step - loss: 0.0017\n",
            "Epoch 54/100\n",
            "38/38 [==============================] - 6s 160ms/step - loss: 0.0014\n",
            "Epoch 55/100\n",
            "38/38 [==============================] - 8s 200ms/step - loss: 0.0013\n",
            "Epoch 56/100\n",
            "38/38 [==============================] - 6s 160ms/step - loss: 0.0012\n",
            "Epoch 57/100\n",
            "38/38 [==============================] - 5s 133ms/step - loss: 0.0012\n",
            "Epoch 58/100\n",
            "38/38 [==============================] - 8s 212ms/step - loss: 0.0014\n",
            "Epoch 59/100\n",
            "38/38 [==============================] - 10s 251ms/step - loss: 0.0014\n",
            "Epoch 60/100\n",
            "38/38 [==============================] - 7s 190ms/step - loss: 0.0016\n",
            "Epoch 61/100\n",
            "38/38 [==============================] - 5s 131ms/step - loss: 0.0013\n",
            "Epoch 62/100\n",
            "38/38 [==============================] - 5s 144ms/step - loss: 0.0014\n",
            "Epoch 63/100\n",
            "38/38 [==============================] - 9s 230ms/step - loss: 0.0013\n",
            "Epoch 64/100\n",
            "38/38 [==============================] - 5s 133ms/step - loss: 0.0014\n",
            "Epoch 65/100\n",
            "38/38 [==============================] - 7s 185ms/step - loss: 0.0015\n",
            "Epoch 66/100\n",
            "38/38 [==============================] - 5s 131ms/step - loss: 0.0012\n",
            "Epoch 67/100\n",
            "38/38 [==============================] - 5s 135ms/step - loss: 0.0014\n",
            "Epoch 68/100\n",
            "38/38 [==============================] - 9s 242ms/step - loss: 0.0013\n",
            "Epoch 69/100\n",
            "38/38 [==============================] - 5s 133ms/step - loss: 0.0013\n",
            "Epoch 70/100\n",
            "38/38 [==============================] - 6s 146ms/step - loss: 0.0013\n",
            "Epoch 71/100\n",
            "38/38 [==============================] - 7s 182ms/step - loss: 0.0012\n",
            "Epoch 72/100\n",
            "38/38 [==============================] - 5s 130ms/step - loss: 0.0012\n",
            "Epoch 73/100\n",
            "38/38 [==============================] - 7s 188ms/step - loss: 0.0013\n",
            "Epoch 74/100\n",
            "38/38 [==============================] - 5s 134ms/step - loss: 0.0021\n",
            "Epoch 75/100\n",
            "38/38 [==============================] - 6s 146ms/step - loss: 0.0015\n",
            "Epoch 76/100\n",
            "38/38 [==============================] - 7s 170ms/step - loss: 0.0011\n",
            "Epoch 77/100\n",
            "38/38 [==============================] - 7s 187ms/step - loss: 0.0012\n",
            "Epoch 78/100\n",
            "38/38 [==============================] - 7s 185ms/step - loss: 0.0011\n",
            "Epoch 79/100\n",
            "38/38 [==============================] - 5s 132ms/step - loss: 0.0011\n",
            "Epoch 80/100\n",
            "38/38 [==============================] - 7s 177ms/step - loss: 0.0011\n",
            "Epoch 81/100\n",
            "38/38 [==============================] - 6s 144ms/step - loss: 0.0011\n",
            "Epoch 82/100\n",
            "38/38 [==============================] - 5s 131ms/step - loss: 0.0011\n",
            "Epoch 83/100\n",
            "38/38 [==============================] - 7s 187ms/step - loss: 0.0013\n",
            "Epoch 84/100\n",
            "38/38 [==============================] - 5s 132ms/step - loss: 0.0014\n",
            "Epoch 85/100\n",
            "38/38 [==============================] - 6s 165ms/step - loss: 0.0012\n",
            "Epoch 86/100\n",
            "38/38 [==============================] - 6s 153ms/step - loss: 0.0011\n",
            "Epoch 87/100\n",
            "38/38 [==============================] - 5s 133ms/step - loss: 0.0010\n",
            "Epoch 88/100\n",
            "38/38 [==============================] - 7s 186ms/step - loss: 0.0010\n",
            "Epoch 89/100\n",
            "38/38 [==============================] - 5s 132ms/step - loss: 0.0015\n",
            "Epoch 90/100\n",
            "38/38 [==============================] - 6s 157ms/step - loss: 0.0012\n",
            "Epoch 91/100\n",
            "38/38 [==============================] - 6s 161ms/step - loss: 0.0010\n",
            "Epoch 92/100\n",
            "38/38 [==============================] - 5s 132ms/step - loss: 0.0012\n",
            "Epoch 93/100\n",
            "38/38 [==============================] - 7s 188ms/step - loss: 0.0011\n",
            "Epoch 94/100\n",
            "38/38 [==============================] - 5s 134ms/step - loss: 0.0012\n",
            "Epoch 95/100\n",
            "38/38 [==============================] - 6s 148ms/step - loss: 0.0011\n",
            "Epoch 96/100\n",
            "38/38 [==============================] - 7s 173ms/step - loss: 0.0011\n",
            "Epoch 97/100\n",
            "38/38 [==============================] - 5s 138ms/step - loss: 0.0012\n",
            "Epoch 98/100\n",
            "38/38 [==============================] - 9s 237ms/step - loss: 0.0012\n",
            "Epoch 99/100\n",
            "38/38 [==============================] - 5s 134ms/step - loss: 0.0014\n",
            "Epoch 100/100\n",
            "38/38 [==============================] - 5s 135ms/step - loss: 0.0011\n"
          ]
        },
        {
          "output_type": "execute_result",
          "data": {
            "text/plain": [
              "<keras.callbacks.History at 0x7fe01a2097e0>"
            ]
          },
          "metadata": {},
          "execution_count": 13
        }
      ]
    },
    {
      "cell_type": "markdown",
      "source": [
        "GRU"
      ],
      "metadata": {
        "id": "QT2JamfzueR9"
      }
    },
    {
      "cell_type": "code",
      "source": [
        "regressorGru = Sequential()\n",
        "regressorGru.add(GRU(units = 50, return_sequences = True, input_shape = (X_train.shape[1], 1)))\n",
        "regressorGru.add(Dropout(0.2))\n",
        "regressorGru.add(GRU(units = 50, return_sequences = True))\n",
        "regressorGru.add(Dropout(0.2))\n",
        "regressorGru.add(GRU(units = 50, return_sequences = True))\n",
        "regressorGru.add(Dropout(0.2))\n",
        "regressorGru.add(GRU(units = 50))\n",
        "regressorGru.add(Dropout(0.2))\n",
        "regressorGru.add(Dense(units = 1))\n",
        "regressorGru.compile(optimizer = 'adam', loss = 'mean_squared_error')\n",
        "regressorGru.fit(X_train, y_train, epochs = 100, batch_size = 32)"
      ],
      "metadata": {
        "id": "B6LYG7kXugLh",
        "colab": {
          "base_uri": "https://localhost:8080/"
        },
        "outputId": "09da3ab3-41a6-42ef-bb66-572aee559982"
      },
      "execution_count": 14,
      "outputs": [
        {
          "output_type": "stream",
          "name": "stdout",
          "text": [
            "Epoch 1/100\n",
            "38/38 [==============================] - 15s 153ms/step - loss: 0.0466\n",
            "Epoch 2/100\n",
            "38/38 [==============================] - 5s 142ms/step - loss: 0.0087\n",
            "Epoch 3/100\n",
            "38/38 [==============================] - 7s 195ms/step - loss: 0.0063\n",
            "Epoch 4/100\n",
            "38/38 [==============================] - 5s 142ms/step - loss: 0.0070\n",
            "Epoch 5/100\n",
            "38/38 [==============================] - 7s 194ms/step - loss: 0.0060\n",
            "Epoch 6/100\n",
            "38/38 [==============================] - 5s 139ms/step - loss: 0.0054\n",
            "Epoch 7/100\n",
            "38/38 [==============================] - 6s 157ms/step - loss: 0.0053\n",
            "Epoch 8/100\n",
            "38/38 [==============================] - 7s 173ms/step - loss: 0.0048\n",
            "Epoch 9/100\n",
            "38/38 [==============================] - 5s 141ms/step - loss: 0.0052\n",
            "Epoch 10/100\n",
            "38/38 [==============================] - 7s 192ms/step - loss: 0.0046\n",
            "Epoch 11/100\n",
            "38/38 [==============================] - 5s 140ms/step - loss: 0.0046\n",
            "Epoch 12/100\n",
            "38/38 [==============================] - 7s 175ms/step - loss: 0.0040\n",
            "Epoch 13/100\n",
            "38/38 [==============================] - 6s 156ms/step - loss: 0.0042\n",
            "Epoch 14/100\n",
            "38/38 [==============================] - 5s 140ms/step - loss: 0.0039\n",
            "Epoch 15/100\n",
            "38/38 [==============================] - 8s 206ms/step - loss: 0.0043\n",
            "Epoch 16/100\n",
            "38/38 [==============================] - 7s 174ms/step - loss: 0.0042\n",
            "Epoch 17/100\n",
            "38/38 [==============================] - 7s 191ms/step - loss: 0.0038\n",
            "Epoch 18/100\n",
            "38/38 [==============================] - 5s 140ms/step - loss: 0.0035\n",
            "Epoch 19/100\n",
            "38/38 [==============================] - 7s 183ms/step - loss: 0.0035\n",
            "Epoch 20/100\n",
            "38/38 [==============================] - 6s 146ms/step - loss: 0.0033\n",
            "Epoch 21/100\n",
            "38/38 [==============================] - 5s 140ms/step - loss: 0.0034\n",
            "Epoch 22/100\n",
            "38/38 [==============================] - 7s 190ms/step - loss: 0.0033\n",
            "Epoch 23/100\n",
            "38/38 [==============================] - 5s 140ms/step - loss: 0.0032\n",
            "Epoch 24/100\n",
            "38/38 [==============================] - 7s 192ms/step - loss: 0.0035\n",
            "Epoch 25/100\n",
            "38/38 [==============================] - 5s 138ms/step - loss: 0.0028\n",
            "Epoch 26/100\n",
            "38/38 [==============================] - 8s 220ms/step - loss: 0.0031\n",
            "Epoch 27/100\n",
            "38/38 [==============================] - 6s 165ms/step - loss: 0.0031\n",
            "Epoch 28/100\n",
            "38/38 [==============================] - 5s 140ms/step - loss: 0.0029\n",
            "Epoch 29/100\n",
            "38/38 [==============================] - 7s 194ms/step - loss: 0.0031\n",
            "Epoch 30/100\n",
            "38/38 [==============================] - 7s 176ms/step - loss: 0.0033\n",
            "Epoch 31/100\n",
            "38/38 [==============================] - 8s 206ms/step - loss: 0.0028\n",
            "Epoch 32/100\n",
            "38/38 [==============================] - 5s 141ms/step - loss: 0.0029\n",
            "Epoch 33/100\n",
            "38/38 [==============================] - 7s 178ms/step - loss: 0.0027\n",
            "Epoch 34/100\n",
            "38/38 [==============================] - 6s 151ms/step - loss: 0.0027\n",
            "Epoch 35/100\n",
            "38/38 [==============================] - 7s 173ms/step - loss: 0.0032\n",
            "Epoch 36/100\n",
            "38/38 [==============================] - 8s 209ms/step - loss: 0.0029\n",
            "Epoch 37/100\n",
            "38/38 [==============================] - 5s 139ms/step - loss: 0.0025\n",
            "Epoch 38/100\n",
            "38/38 [==============================] - 7s 175ms/step - loss: 0.0024\n",
            "Epoch 39/100\n",
            "38/38 [==============================] - 6s 153ms/step - loss: 0.0026\n",
            "Epoch 40/100\n",
            "38/38 [==============================] - 7s 182ms/step - loss: 0.0025\n",
            "Epoch 41/100\n",
            "38/38 [==============================] - 8s 203ms/step - loss: 0.0026\n",
            "Epoch 42/100\n",
            "38/38 [==============================] - 5s 141ms/step - loss: 0.0028\n",
            "Epoch 43/100\n",
            "38/38 [==============================] - 7s 193ms/step - loss: 0.0023\n",
            "Epoch 44/100\n",
            "38/38 [==============================] - 5s 140ms/step - loss: 0.0025\n",
            "Epoch 45/100\n",
            "38/38 [==============================] - 8s 209ms/step - loss: 0.0023\n",
            "Epoch 46/100\n",
            "38/38 [==============================] - 7s 176ms/step - loss: 0.0024\n",
            "Epoch 47/100\n",
            "38/38 [==============================] - 6s 145ms/step - loss: 0.0023\n",
            "Epoch 48/100\n",
            "38/38 [==============================] - 7s 194ms/step - loss: 0.0022\n",
            "Epoch 49/100\n",
            "38/38 [==============================] - 5s 140ms/step - loss: 0.0021\n",
            "Epoch 50/100\n",
            "38/38 [==============================] - 7s 175ms/step - loss: 0.0022\n",
            "Epoch 51/100\n",
            "38/38 [==============================] - 6s 156ms/step - loss: 0.0023\n",
            "Epoch 52/100\n",
            "38/38 [==============================] - 5s 140ms/step - loss: 0.0022\n",
            "Epoch 53/100\n",
            "38/38 [==============================] - 7s 192ms/step - loss: 0.0020\n",
            "Epoch 54/100\n",
            "38/38 [==============================] - 6s 165ms/step - loss: 0.0019\n",
            "Epoch 55/100\n",
            "38/38 [==============================] - 8s 222ms/step - loss: 0.0020\n",
            "Epoch 56/100\n",
            "38/38 [==============================] - 5s 140ms/step - loss: 0.0020\n",
            "Epoch 57/100\n",
            "38/38 [==============================] - 7s 179ms/step - loss: 0.0020\n",
            "Epoch 58/100\n",
            "38/38 [==============================] - 6s 155ms/step - loss: 0.0021\n",
            "Epoch 59/100\n",
            "38/38 [==============================] - 9s 229ms/step - loss: 0.0024\n",
            "Epoch 60/100\n",
            "38/38 [==============================] - 6s 159ms/step - loss: 0.0022\n",
            "Epoch 61/100\n",
            "38/38 [==============================] - 5s 142ms/step - loss: 0.0022\n",
            "Epoch 62/100\n",
            "38/38 [==============================] - 7s 194ms/step - loss: 0.0018\n",
            "Epoch 63/100\n",
            "38/38 [==============================] - 5s 143ms/step - loss: 0.0019\n",
            "Epoch 64/100\n",
            "38/38 [==============================] - 8s 206ms/step - loss: 0.0019\n",
            "Epoch 65/100\n",
            "38/38 [==============================] - 5s 144ms/step - loss: 0.0018\n",
            "Epoch 66/100\n",
            "38/38 [==============================] - 6s 166ms/step - loss: 0.0018\n",
            "Epoch 67/100\n",
            "38/38 [==============================] - 6s 165ms/step - loss: 0.0018\n",
            "Epoch 68/100\n",
            "38/38 [==============================] - 5s 140ms/step - loss: 0.0019\n",
            "Epoch 69/100\n",
            "38/38 [==============================] - 7s 193ms/step - loss: 0.0018\n",
            "Epoch 70/100\n",
            "38/38 [==============================] - 5s 140ms/step - loss: 0.0017\n",
            "Epoch 71/100\n",
            "38/38 [==============================] - 7s 178ms/step - loss: 0.0017\n",
            "Epoch 72/100\n",
            "38/38 [==============================] - 6s 151ms/step - loss: 0.0018\n",
            "Epoch 73/100\n",
            "38/38 [==============================] - 5s 139ms/step - loss: 0.0016\n",
            "Epoch 74/100\n",
            "38/38 [==============================] - 9s 250ms/step - loss: 0.0016\n",
            "Epoch 75/100\n",
            "38/38 [==============================] - 6s 143ms/step - loss: 0.0017\n",
            "Epoch 76/100\n",
            "38/38 [==============================] - 7s 177ms/step - loss: 0.0017\n",
            "Epoch 77/100\n",
            "38/38 [==============================] - 6s 152ms/step - loss: 0.0017\n",
            "Epoch 78/100\n",
            "38/38 [==============================] - 5s 139ms/step - loss: 0.0017\n",
            "Epoch 79/100\n",
            "38/38 [==============================] - 7s 193ms/step - loss: 0.0016\n",
            "Epoch 80/100\n",
            "38/38 [==============================] - 5s 139ms/step - loss: 0.0017\n",
            "Epoch 81/100\n",
            "38/38 [==============================] - 7s 189ms/step - loss: 0.0017\n",
            "Epoch 82/100\n",
            "38/38 [==============================] - 5s 140ms/step - loss: 0.0015\n",
            "Epoch 83/100\n",
            "38/38 [==============================] - 6s 150ms/step - loss: 0.0017\n",
            "Epoch 84/100\n",
            "38/38 [==============================] - 7s 182ms/step - loss: 0.0015\n",
            "Epoch 85/100\n",
            "38/38 [==============================] - 5s 143ms/step - loss: 0.0014\n",
            "Epoch 86/100\n",
            "38/38 [==============================] - 7s 193ms/step - loss: 0.0016\n",
            "Epoch 87/100\n",
            "38/38 [==============================] - 5s 142ms/step - loss: 0.0015\n",
            "Epoch 88/100\n",
            "38/38 [==============================] - 7s 174ms/step - loss: 0.0015\n",
            "Epoch 89/100\n",
            "38/38 [==============================] - 6s 160ms/step - loss: 0.0015\n",
            "Epoch 90/100\n",
            "38/38 [==============================] - 5s 140ms/step - loss: 0.0017\n",
            "Epoch 91/100\n",
            "38/38 [==============================] - 7s 192ms/step - loss: 0.0015\n",
            "Epoch 92/100\n",
            "38/38 [==============================] - 5s 140ms/step - loss: 0.0016\n",
            "Epoch 93/100\n",
            "38/38 [==============================] - 8s 199ms/step - loss: 0.0014\n",
            "Epoch 94/100\n",
            "38/38 [==============================] - 7s 191ms/step - loss: 0.0015\n",
            "Epoch 95/100\n",
            "38/38 [==============================] - 6s 157ms/step - loss: 0.0014\n",
            "Epoch 96/100\n",
            "38/38 [==============================] - 7s 174ms/step - loss: 0.0013\n",
            "Epoch 97/100\n",
            "38/38 [==============================] - 5s 142ms/step - loss: 0.0013\n",
            "Epoch 98/100\n",
            "38/38 [==============================] - 7s 193ms/step - loss: 0.0013\n",
            "Epoch 99/100\n",
            "38/38 [==============================] - 5s 144ms/step - loss: 0.0014\n",
            "Epoch 100/100\n",
            "38/38 [==============================] - 7s 183ms/step - loss: 0.0013\n"
          ]
        },
        {
          "output_type": "execute_result",
          "data": {
            "text/plain": [
              "<keras.callbacks.History at 0x7fe018cae080>"
            ]
          },
          "metadata": {},
          "execution_count": 14
        }
      ]
    },
    {
      "cell_type": "code",
      "source": [
        "dataset_test = pd.read_csv('/content/Final_Test_Data.csv')\n",
        "real_stock_price = dataset_test.iloc[:, 1:2].values"
      ],
      "metadata": {
        "id": "cjtV-A-AqQ0C"
      },
      "execution_count": 15,
      "outputs": []
    },
    {
      "cell_type": "code",
      "source": [
        "date_list = dataset_test['Date'].values.tolist()\n",
        "len(date_list)"
      ],
      "metadata": {
        "colab": {
          "base_uri": "https://localhost:8080/"
        },
        "id": "6Ov1kzFDgu1f",
        "outputId": "9896fd23-f74d-444a-d532-fadd1c3b50e7"
      },
      "execution_count": 16,
      "outputs": [
        {
          "output_type": "execute_result",
          "data": {
            "text/plain": [
              "20"
            ]
          },
          "metadata": {},
          "execution_count": 16
        }
      ]
    },
    {
      "cell_type": "code",
      "source": [
        "dataset_total = pd.concat((df['open'], dataset_test['Open']), axis = 0)\n",
        "inputs = dataset_total[len(dataset_total) - len(dataset_test) - 60:].values\n",
        "inputs = inputs.reshape(-1,1)\n",
        "inputs = sc.transform(inputs)\n",
        "X_test = []\n",
        "for i in range(60, 80):\n",
        "    X_test.append(inputs[i-60:i, 0])\n",
        "X_test = np.array(X_test)\n",
        "X_test = np.reshape(X_test, (X_test.shape[0], X_test.shape[1], 1))"
      ],
      "metadata": {
        "id": "bb71oxjjqVlv"
      },
      "execution_count": 17,
      "outputs": []
    },
    {
      "cell_type": "code",
      "source": [
        "predicted_stock_price_rnn = regressorRnn.predict(X_test)\n",
        "predicted_stock_price_rnn = sc.inverse_transform(predicted_stock_price_rnn)\n",
        "print(predicted_stock_price_rnn)"
      ],
      "metadata": {
        "id": "mrakGF2CuvUT",
        "colab": {
          "base_uri": "https://localhost:8080/"
        },
        "outputId": "140b15e2-01f4-49db-cc03-1378f5add5e5"
      },
      "execution_count": 18,
      "outputs": [
        {
          "output_type": "stream",
          "name": "stdout",
          "text": [
            "1/1 [==============================] - 1s 528ms/step\n",
            "[[62.219498]\n",
            " [72.31291 ]\n",
            " [77.73632 ]\n",
            " [76.12549 ]\n",
            " [72.29192 ]\n",
            " [70.90465 ]\n",
            " [70.25139 ]\n",
            " [71.50621 ]\n",
            " [74.556625]\n",
            " [75.50805 ]\n",
            " [75.58114 ]\n",
            " [75.17028 ]\n",
            " [74.7657  ]\n",
            " [73.38266 ]\n",
            " [75.81848 ]\n",
            " [79.23786 ]\n",
            " [80.55508 ]\n",
            " [78.74839 ]\n",
            " [77.592384]\n",
            " [77.571976]]\n"
          ]
        }
      ]
    },
    {
      "cell_type": "code",
      "source": [
        "predicted_stock_price_lstm = regressorLstm.predict(X_test)\n",
        "predicted_stock_price_lstm = sc.inverse_transform(predicted_stock_price_lstm)\n",
        "print(predicted_stock_price_lstm)"
      ],
      "metadata": {
        "id": "9ubRdsJ4uz5C",
        "colab": {
          "base_uri": "https://localhost:8080/"
        },
        "outputId": "eec1dca8-ea91-4654-cebd-bfd31a8247ad"
      },
      "execution_count": 19,
      "outputs": [
        {
          "output_type": "stream",
          "name": "stdout",
          "text": [
            "1/1 [==============================] - 2s 2s/step\n",
            "[[67.75621 ]\n",
            " [78.86336 ]\n",
            " [75.984314]\n",
            " [76.65521 ]\n",
            " [76.74668 ]\n",
            " [75.852196]\n",
            " [75.852745]\n",
            " [77.13264 ]\n",
            " [79.04419 ]\n",
            " [77.27433 ]\n",
            " [78.47336 ]\n",
            " [78.78579 ]\n",
            " [78.18239 ]\n",
            " [77.92542 ]\n",
            " [80.77305 ]\n",
            " [82.08554 ]\n",
            " [81.56475 ]\n",
            " [80.4408  ]\n",
            " [81.3354  ]\n",
            " [81.44795 ]]\n"
          ]
        }
      ]
    },
    {
      "cell_type": "code",
      "source": [
        "predicted_stock_price_gru = regressorGru.predict(X_test)\n",
        "predicted_stock_price_gru = sc.inverse_transform(predicted_stock_price_gru)\n",
        "print(predicted_stock_price_gru)"
      ],
      "metadata": {
        "id": "N7B5Oqwdu0pd",
        "colab": {
          "base_uri": "https://localhost:8080/"
        },
        "outputId": "d16af955-be4c-4e11-fc05-0c8e7849b90b"
      },
      "execution_count": 20,
      "outputs": [
        {
          "output_type": "stream",
          "name": "stdout",
          "text": [
            "1/1 [==============================] - 1s 1s/step\n",
            "[[ 72.36288 ]\n",
            " [100.023056]\n",
            " [ 88.893906]\n",
            " [ 83.72998 ]\n",
            " [ 85.47615 ]\n",
            " [ 88.972984]\n",
            " [ 83.42392 ]\n",
            " [ 90.85424 ]\n",
            " [ 92.318016]\n",
            " [ 88.83669 ]\n",
            " [ 90.42533 ]\n",
            " [ 91.75416 ]\n",
            " [ 91.21883 ]\n",
            " [ 88.58706 ]\n",
            " [ 97.83025 ]\n",
            " [ 99.199356]\n",
            " [ 96.98685 ]\n",
            " [ 92.944   ]\n",
            " [ 97.220116]\n",
            " [ 97.41665 ]]\n"
          ]
        }
      ]
    },
    {
      "cell_type": "code",
      "source": [
        "name = updated_df['Name'].unique()[0]"
      ],
      "metadata": {
        "id": "NxhpN5TjEaVN"
      },
      "execution_count": 21,
      "outputs": []
    },
    {
      "cell_type": "code",
      "source": [
        "plt.plot(real_stock_price, color = 'red', label = 'Real Stock Price')\n",
        "plt.plot(predicted_stock_price_rnn, color = 'blue', label = 'Predicted Stock Price')\n",
        "plt.title('Stock Price Prediction using RNN for '+name)\n",
        "plt.xlabel('Time')\n",
        "plt.ylabel('Stock Price')\n",
        "plt.legend()\n",
        "plt.show()"
      ],
      "metadata": {
        "id": "x_3V0zHSu2Vz",
        "colab": {
          "base_uri": "https://localhost:8080/",
          "height": 472
        },
        "outputId": "0da6c48b-8631-41c7-c8b7-ec3e3c7a37cd"
      },
      "execution_count": 22,
      "outputs": [
        {
          "output_type": "display_data",
          "data": {
            "text/plain": [
              "<Figure size 640x480 with 1 Axes>"
            ],
            "image/png": "[encoded data removed]"
          },
          "metadata": {}
        }
      ]
    },
    {
      "cell_type": "code",
      "source": [
        "plt.plot(real_stock_price, color = 'red', label = 'Real Stock Price')\n",
        "plt.plot(predicted_stock_price_lstm, color = 'blue', label = 'Predicted Stock Price')\n",
        "plt.title('Stock Price Prediction using LSTM for '+name)\n",
        "plt.xlabel('Time')\n",
        "plt.ylabel('Stock Price')\n",
        "plt.legend()\n",
        "plt.show()"
      ],
      "metadata": {
        "id": "oulc1fTgu8_i",
        "colab": {
          "base_uri": "https://localhost:8080/",
          "height": 472
        },
        "outputId": "b6b77ebe-6caf-4c87-a44a-115c66d8c3c0"
      },
      "execution_count": 23,
      "outputs": [
        {
          "output_type": "display_data",
          "data": {
            "text/plain": [
              "<Figure size 640x480 with 1 Axes>"
            ],
            "image/png": "[encoded data removed]"
          },
          "metadata": {}
        }
      ]
    },
    {
      "cell_type": "code",
      "source": [
        "plt.plot(real_stock_price, color = 'red', label = 'Real Stock Price')\n",
        "plt.plot(predicted_stock_price_gru, color = 'blue', label = 'Predicted Stock Price')\n",
        "plt.title('Stock Price Prediction using GRU for '+name)\n",
        "plt.xlabel('Time')\n",
        "plt.ylabel('Stock Price')\n",
        "plt.legend()\n",
        "plt.show()"
      ],
      "metadata": {
        "id": "kqG-OdBivCRl",
        "colab": {
          "base_uri": "https://localhost:8080/",
          "height": 472
        },
        "outputId": "20ed1a83-47b7-4193-cd7b-7204d1e46521"
      },
      "execution_count": 24,
      "outputs": [
        {
          "output_type": "display_data",
          "data": {
            "text/plain": [
              "<Figure size 640x480 with 1 Axes>"
            ],
            "image/png": "[encoded data removed]"
          },
          "metadata": {}
        }
      ]
    },
    {
      "cell_type": "code",
      "source": [
        "def return_rmse(test, predicted):\n",
        "    rmse = math.sqrt(mean_squared_error(test, predicted))\n",
        "    return rmse"
      ],
      "metadata": {
        "id": "Lm4gEYQbvgKV"
      },
      "execution_count": 25,
      "outputs": []
    },
    {
      "cell_type": "code",
      "source": [
        "print(\"Root mean squared error for simple RNN:\",return_rmse(real_stock_price,predicted_stock_price_rnn))\n",
        "print(\"Root mean squared error for LSTM:\",return_rmse(real_stock_price,predicted_stock_price_lstm))\n",
        "print(\"Root mean squared error for GRU:\",return_rmse(real_stock_price,predicted_stock_price_gru))"
      ],
      "metadata": {
        "id": "4lZEMILJvg6y",
        "colab": {
          "base_uri": "https://localhost:8080/"
        },
        "outputId": "28611282-ac8f-4dec-cb31-582d339ce55d"
      },
      "execution_count": 26,
      "outputs": [
        {
          "output_type": "stream",
          "name": "stdout",
          "text": [
            "Root mean squared error for simple RNN: 18.955452168817942\n",
            "Root mean squared error for LSTM: 15.32089479753535\n",
            "Root mean squared error for GRU: 5.348057092616784\n"
          ]
        }
      ]
    },
    {
      "cell_type": "code",
      "source": [
        "fig = plt.figure(figsize=(15,7))\n",
        "\n",
        "fig.suptitle('Stock price comparison', fontsize=15)\n",
        "\n",
        "ax4 = fig.add_subplot(231)\n",
        "ax4.set_title('Expected')\n",
        "\n",
        "ax4.plot(real_stock_price,color='blue', label = 'Real Stock Price')\n",
        "\n",
        "ax1 = fig.add_subplot(232)\n",
        "ax1.set_title('Simple RNN')\n",
        "\n",
        "ax1.plot(predicted_stock_price_rnn,color='green', label = 'Predicted Stock Price using Simple RNN')\n",
        "\n",
        "ax2 = fig.add_subplot(233)\n",
        "ax2.set_title('LSTM')\n",
        "\n",
        "ax2.plot(predicted_stock_price_lstm,color='purple', label = 'Predicted Stock Price using LSTM')\n",
        "\n",
        "ax3 = fig.add_subplot(234)\n",
        "ax3.set_title('GRU')\n",
        "\n",
        "ax3.plot(predicted_stock_price_gru,color='magenta', label = 'Predicted Stock Price using GRU')\n",
        "\n",
        "plt.show()"
      ],
      "metadata": {
        "colab": {
          "base_uri": "https://localhost:8080/",
          "height": 669
        },
        "id": "fkMLLHQpsNge",
        "outputId": "b6485f0d-76e5-4570-9a92-a4c0ee3e1d27"
      },
      "execution_count": 27,
      "outputs": [
        {
          "output_type": "display_data",
          "data": {
            "text/plain": [
              "<Figure size 1500x700 with 4 Axes>"
            ],
            "image/png": "[encoded data removed]"
          },
          "metadata": {}
        }
      ]
    },
    {
      "cell_type": "markdown",
      "source": [
        "User Interface"
      ],
      "metadata": {
        "id": "KvuOqOOIW1pS"
      }
    },
    {
      "cell_type": "code",
      "source": [
        "!pip install flask_ngrok"
      ],
      "metadata": {
        "colab": {
          "base_uri": "https://localhost:8080/"
        },
        "id": "pxGk0dHQ0gsK",
        "outputId": "516488e8-9bd6-4e99-d76d-a31d5c72340c"
      },
      "execution_count": 28,
      "outputs": [
        {
          "output_type": "stream",
          "name": "stdout",
          "text": [
            "Looking in indexes: https://pypi.org/simple, https://us-python.pkg.dev/colab-wheels/public/simple/\n",
            "Requirement already satisfied: flask_ngrok in /usr/local/lib/python3.10/dist-packages (0.0.25)\n",
            "Requirement already satisfied: Flask>=0.8 in /usr/local/lib/python3.10/dist-packages (from flask_ngrok) (2.2.4)\n",
            "Requirement already satisfied: requests in /usr/local/lib/python3.10/dist-packages (from flask_ngrok) (2.27.1)\n",
            "Requirement already satisfied: Jinja2>=3.0 in /usr/local/lib/python3.10/dist-packages (from Flask>=0.8->flask_ngrok) (3.1.2)\n",
            "Requirement already satisfied: click>=8.0 in /usr/local/lib/python3.10/dist-packages (from Flask>=0.8->flask_ngrok) (8.1.3)\n",
            "Requirement already satisfied: Werkzeug>=2.2.2 in /usr/local/lib/python3.10/dist-packages (from Flask>=0.8->flask_ngrok) (2.3.0)\n",
            "Requirement already satisfied: itsdangerous>=2.0 in /usr/local/lib/python3.10/dist-packages (from Flask>=0.8->flask_ngrok) (2.1.2)\n",
            "Requirement already satisfied: urllib3<1.27,>=1.21.1 in /usr/local/lib/python3.10/dist-packages (from requests->flask_ngrok) (1.26.15)\n",
            "Requirement already satisfied: charset-normalizer~=2.0.0 in /usr/local/lib/python3.10/dist-packages (from requests->flask_ngrok) (2.0.12)\n",
            "Requirement already satisfied: idna<4,>=2.5 in /usr/local/lib/python3.10/dist-packages (from requests->flask_ngrok) (3.4)\n",
            "Requirement already satisfied: certifi>=2017.4.17 in /usr/local/lib/python3.10/dist-packages (from requests->flask_ngrok) (2022.12.7)\n",
            "Requirement already satisfied: MarkupSafe>=2.0 in /usr/local/lib/python3.10/dist-packages (from Jinja2>=3.0->Flask>=0.8->flask_ngrok) (2.1.2)\n"
          ]
        }
      ]
    },
    {
      "cell_type": "code",
      "source": [
        "!curl -s https://ngrok-agent.s3.amazonaws.com/ngrok.asc | sudo tee /etc/apt/trusted.gpg.d/ngrok.asc >/dev/null && echo \"deb https://ngrok-agent.s3.amazonaws.com buster main\" | sudo tee /etc/apt/sources.list.d/ngrok.list && sudo apt update && sudo apt install ngrok   "
      ],
      "metadata": {
        "colab": {
          "base_uri": "https://localhost:8080/"
        },
        "id": "IuLOAzwJgM36",
        "outputId": "3ac4fe1e-7469-4f13-a91c-8274ce6f0e2b"
      },
      "execution_count": 29,
      "outputs": [
        {
          "output_type": "stream",
          "name": "stdout",
          "text": [
            "deb https://ngrok-agent.s3.amazonaws.com buster main\n",
            "Hit:1 http://archive.ubuntu.com/ubuntu focal InRelease\n",
            "Hit:2 https://cloud.r-project.org/bin/linux/ubuntu focal-cran40/ InRelease\n",
            "Get:3 http://archive.ubuntu.com/ubuntu focal-updates InRelease [114 kB]\n",
            "Hit:4 https://developer.download.nvidia.com/compute/cuda/repos/ubuntu2004/x86_64  InRelease\n",
            "Get:5 http://security.ubuntu.com/ubuntu focal-security InRelease [114 kB]\n",
            "Get:6 http://archive.ubuntu.com/ubuntu focal-backports InRelease [108 kB]\n",
            "Hit:7 http://ppa.launchpad.net/c2d4u.team/c2d4u4.0+/ubuntu focal InRelease\n",
            "Hit:8 https://ngrok-agent.s3.amazonaws.com buster InRelease\n",
            "Hit:9 http://ppa.launchpad.net/cran/libgit2/ubuntu focal InRelease\n",
            "Hit:10 http://ppa.launchpad.net/deadsnakes/ppa/ubuntu focal InRelease\n",
            "Hit:11 http://ppa.launchpad.net/graphics-drivers/ppa/ubuntu focal InRelease\n",
            "Hit:12 http://ppa.launchpad.net/ubuntugis/ppa/ubuntu focal InRelease\n",
            "Fetched 336 kB in 2s (194 kB/s)\n",
            "Reading package lists... Done\n",
            "Building dependency tree       \n",
            "Reading state information... Done\n",
            "24 packages can be upgraded. Run 'apt list --upgradable' to see them.\n",
            "Reading package lists... Done\n",
            "Building dependency tree       \n",
            "Reading state information... Done\n",
            "ngrok is already the newest version (3.2.2).\n",
            "0 upgraded, 0 newly installed, 0 to remove and 24 not upgraded.\n"
          ]
        }
      ]
    },
    {
      "cell_type": "code",
      "source": [
        "from flask_ngrok import run_with_ngrok\n",
        "from flask import Flask\n",
        "from flask import render_template, request"
      ],
      "metadata": {
        "id": "y9WBuBqvevxZ"
      },
      "execution_count": 30,
      "outputs": []
    },
    {
      "cell_type": "code",
      "source": [
        "!ngrok config add-authtoken 2P3uyakvsShGSm9RUPHIDv45d8T_3WEweuSZsN9cxSzgbTSY8\n"
      ],
      "metadata": {
        "colab": {
          "base_uri": "https://localhost:8080/"
        },
        "id": "5g8JoXfoxM2X",
        "outputId": "ad050772-b951-4979-c979-7cd07edb4cd4"
      },
      "execution_count": 31,
      "outputs": [
        {
          "output_type": "stream",
          "name": "stdout",
          "text": [
            "Authtoken saved to configuration file: /root/.config/ngrok/ngrok.yml\n"
          ]
        }
      ]
    },
    {
      "cell_type": "code",
      "source": [
        "!ngrok authtoken 2P3uyakvsShGSm9RUPHIDv45d8T_3WEweuSZsN9cxSzgbTSY8\n"
      ],
      "metadata": {
        "colab": {
          "base_uri": "https://localhost:8080/"
        },
        "id": "OeZGxC5byR8j",
        "outputId": "7e5dd49b-1eec-4119-ca80-340f6da59ac2"
      },
      "execution_count": 32,
      "outputs": [
        {
          "output_type": "stream",
          "name": "stdout",
          "text": [
            "Authtoken saved to configuration file: /root/.config/ngrok/ngrok.yml\n"
          ]
        }
      ]
    },
    {
      "cell_type": "code",
      "source": [
        "%mkdir templates -p"
      ],
      "metadata": {
        "id": "_2wcInei4mRx"
      },
      "execution_count": 33,
      "outputs": []
    },
    {
      "cell_type": "code",
      "source": [
        "%%writefile templates/index.html\n",
        "\n",
        "<html>\n",
        "\t<head>\n",
        "\t\t<title>Stock Price Prediction</title>\n",
        "\t\t<style>\n",
        "\t\t\t/* Style for the predict button */\n",
        "\t\t\tinput[type=\"submit\"] {\n",
        "\t\t\t\tbackground-color: green;\n",
        "\t\t\t\tcolor: white;\n",
        "\t\t\t\tpadding: 10px 20px;\n",
        "\t\t\t\tborder: none;\n",
        "\t\t\t\tborder-radius: 5px;\n",
        "\t\t\t\tcursor: pointer;\n",
        "\t\t\t}\n",
        "\t\t\tlabel, input[type=\"text\"] {\n",
        "\t\t\t\tdisplay: inline-block;\n",
        "\t\t\t\tmargin-bottom: 10px;\n",
        "\t\t\t}\n",
        "\t\t</style>\n",
        "\t</head>\n",
        "\t<body style=\"background-color:#72bec7;\">\n",
        "\t\t<div style=\"text-align:center;\">\n",
        "\t\t\t<img src=\"https://th.bing.com/th/id/OIP.KZNccnSAWEGkNv8PxgnhcQHaEH?pid=ImgDet&rs=1\" alt=\"Stock Price Prediction\" width=\"700\" height=\"200\"><br>\n",
        "\t\t\t<h1><u>Stock Price Prediction</u></h1>\n",
        "\t\t\n",
        "\t\t\t<form method=\"POST\">\n",
        "\t\t\t\t<label for=\"company_name\">Enter the company name:</label><br>\n",
        "\t\t\t\t<input type=\"text\" id=\"cname\" name=\"c_name\"><br>\n",
        "\t\t\t\t<label for=\"days\">Prediction for how many days? (Enter in between 1 to 20)</label><br>\n",
        "\t\t\t\t<input type=\"text\" id=\"predDays\" name=\"pred_Days\"><br>\n",
        "\t\t\t\t<label for=\"predictor\">Choose a model to predict:</label><br>\n",
        "\t\t\t\t<select id=\"type\" name=\"model_type\">\n",
        "\t\t\t\t\t<option value=\"simplernn\">Simple RNN</option>\n",
        "\t\t\t\t\t<option value=\"lstm\">LSTM</option>\n",
        "\t\t\t\t\t<option value=\"gru\">GRU</option>\n",
        "\t\t\t\t</select><br><br>\n",
        "\t\t\t\t<input type=\"submit\" value=\"Predict\">\n",
        "\t\t\t</form>\n",
        "\n",
        "\t\t</div>\t\n",
        "\t</body>\n",
        "</html>"
      ],
      "metadata": {
        "colab": {
          "base_uri": "https://localhost:8080/"
        },
        "id": "gUf_Fv0V4zlM",
        "outputId": "1852bd85-f71f-4d88-b24c-fb794c129a33"
      },
      "execution_count": 34,
      "outputs": [
        {
          "output_type": "stream",
          "name": "stdout",
          "text": [
            "Overwriting templates/index.html\n"
          ]
        }
      ]
    },
    {
      "cell_type": "code",
      "source": [
        "%%writefile templates/output.html\n",
        "\n",
        "<html>\n",
        "<head>\n",
        "<title>Predicted Stock Prices</title>\n",
        "<style>\n",
        "\ttable {\n",
        "\t\tborder-collapse: collapse;\n",
        "\t}\n",
        "\tth, td {\n",
        "\t\tborder: 1px solid black;\n",
        "\t\tpadding: 8px;\n",
        "\t\ttext-align: center;\n",
        "\t}\n",
        "</style>\n",
        "</head>\n",
        "<body style=\"background-color:#72bec7;\">\n",
        "\t\t<div style=\"text-align:center;\">\n",
        "\t\t\t<img src=\"https://th.bing.com/th/id/OIP.KZNccnSAWEGkNv8PxgnhcQHaEH?pid=ImgDet&rs=1\" alt=\"Stock Price Prediction\" width=\"700\" height=\"200\"><br>\n",
        "\t\t\t<h1><u>Predicted Stock Prices</u></h1>\n",
        "\t\t\n",
        "\t\t\t<table style=\"margin:auto;\">\n",
        "\t\t\t\t<tr>\n",
        "\t\t\t\t\t<th>Date</th>\n",
        "\t\t\t\t\t<th>Predicted Stock Price</th>\n",
        "\t\t\t\t</tr>\n",
        "\t\t\t\t{% for x0,x1 in name %}\n",
        "\t\t\t\t<tr>\n",
        "\t\t\t\t\t<td>{{ x0 }}</td>\n",
        "\t\t\t\t\t<td>{{ x1[0] }}</td>\n",
        "\t\t\t\t</tr>\n",
        "\t\t\t\t{% endfor %}\n",
        "\t\t\t</table>\n",
        "\t\t</div>\t\n",
        "\t</body>\n",
        "</html>"
      ],
      "metadata": {
        "colab": {
          "base_uri": "https://localhost:8080/"
        },
        "id": "PZE2LTRe9zZZ",
        "outputId": "0aa4b893-c084-4c41-9b96-e71d534f6ff8"
      },
      "execution_count": 35,
      "outputs": [
        {
          "output_type": "stream",
          "name": "stdout",
          "text": [
            "Overwriting templates/output.html\n"
          ]
        }
      ]
    },
    {
      "cell_type": "code",
      "source": [
        "from datetime import date, timedelta"
      ],
      "metadata": {
        "id": "GLSSvxwbXRXJ"
      },
      "execution_count": 36,
      "outputs": []
    },
    {
      "cell_type": "code",
      "source": [
        "app = Flask(__name__)\n",
        "\n",
        "run_with_ngrok(app)  \n",
        "@app.route('/', methods=['GET','POST'])\n",
        "def home():\n",
        "  if request.method == 'GET':\n",
        "    return render_template('index.html')\n",
        "  else:\n",
        "    company_name = request.form['c_name']\n",
        "    duration = request.form['pred_Days']\n",
        "    model = request.form['model_type']\n",
        "   \n",
        "    if model == 'simplernn':\n",
        "      results = predicted_stock_price_rnn[:int(duration)].tolist()\n",
        "    elif model == 'lstm':\n",
        "      results = predicted_stock_price_lstm[:int(duration)].tolist()\n",
        "    elif model == 'gru':\n",
        "      results = predicted_stock_price_lstm[:int(duration)].tolist()\n",
        "    \n",
        "    # today = date.today()\n",
        "    # date_list = [today + timedelta(days=x) for x in range(10)]\n",
        "\n",
        "    output = zip(date_list, results)\n",
        "\n",
        "    return render_template('output.html', name=output)\n",
        "\n",
        "app.run()"
      ],
      "metadata": {
        "colab": {
          "base_uri": "https://localhost:8080/"
        },
        "id": "ZU92lDy0e3I8",
        "outputId": "cda8f05a-d097-4406-8cc7-0160673c31f0"
      },
      "execution_count": 39,
      "outputs": [
        {
          "output_type": "stream",
          "name": "stdout",
          "text": [
            " * Serving Flask app '__main__'\n",
            " * Debug mode: off\n"
          ]
        },
        {
          "output_type": "stream",
          "name": "stderr",
          "text": [
            "INFO:werkzeug:\u001b[31m\u001b[1mWARNING: This is a development server. Do not use it in a production deployment. Use a production WSGI server instead.\u001b[0m\n",
            " * Running on http://127.0.0.1:5000\n",
            "INFO:werkzeug:\u001b[33mPress CTRL+C to quit\u001b[0m\n"
          ]
        },
        {
          "output_type": "stream",
          "name": "stdout",
          "text": [
            " * Running on http://aa87-35-243-176-74.ngrok.io\n",
            " * Traffic stats available on http://127.0.0.1:4040\n"
          ]
        },
        {
          "output_type": "stream",
          "name": "stderr",
          "text": [
            "INFO:werkzeug:127.0.0.1 - - [29/Apr/2023 04:46:05] \"GET / HTTP/1.1\" 200 -\n",
            "INFO:werkzeug:127.0.0.1 - - [29/Apr/2023 04:46:05] \"\u001b[33mGET /favicon.ico HTTP/1.1\u001b[0m\" 404 -\n"
          ]
        }
      ]
    },
    {
      "cell_type": "code",
      "source": [
        "from google.colab.output import eval_js\n",
        "print(eval_js(\"google.colab.kernel.proxyPort(5000)\"))"
      ],
      "metadata": {
        "id": "bvG1r0ZXycdP",
        "colab": {
          "base_uri": "https://localhost:8080/",
          "height": 35
        },
        "outputId": "4b6d33a9-c720-4a7f-9ec5-29c5482ef61e"
      },
      "execution_count": 38,
      "outputs": [
        {
          "output_type": "stream",
          "name": "stdout",
          "text": [
            "https://vwu5ml0eaui-496ff2e9c6d22116-5000-colab.googleusercontent.com/\n"
          ]
        }
      ]
    }
  ]
}